{
 "cells": [
  {
   "cell_type": "markdown",
   "id": "3bfed2b5",
   "metadata": {},
   "source": [
    "# **Laboratorio 6** - Algoritmos Genéticos"
   ]
  },
  {
   "cell_type": "markdown",
   "id": "f03bd6d4",
   "metadata": {},
   "source": [
    "Angélica Ortiz - 202222480 <br>\n",
    "María José Amorocho - 202220179"
   ]
  },
  {
   "cell_type": "markdown",
   "id": "d39de36a",
   "metadata": {},
   "source": [
    "# 1. Problema 1: Corridor Crawler"
   ]
  },
  {
   "cell_type": "code",
   "execution_count": 5,
   "id": "134ca874",
   "metadata": {},
   "outputs": [],
   "source": [
    "import random\n",
    "\n",
    "def generate_population(size, genome_length):\n",
    "    population = []\n",
    "    for i in range(size):\n",
    "        genome = [random.choice(['N', 'S', 'E', 'W']) for i in range(genome_length)]\n",
    "        population.append(genome)\n",
    "    return population"
   ]
  },
  {
   "cell_type": "code",
   "execution_count": 6,
   "id": "1444a82b",
   "metadata": {},
   "outputs": [],
   "source": [
    "def reward(individual, maze, start, end):\n",
    "    current_position = start\n",
    "    steps = 0\n",
    "    fitness = 0\n",
    "    for move in individual:\n",
    "        # Moverse en función del movimiento\n",
    "        if move == 'N':\n",
    "            new_position = (current_position[0] - 1, current_position[1])\n",
    "        elif move == 'S':\n",
    "            new_position = (current_position[0] + 1, current_position[1])\n",
    "        elif move == 'E':\n",
    "            new_position = (current_position[0], current_position[1] + 1)\n",
    "        elif move == 'W':\n",
    "            new_position = (current_position[0], current_position[1] - 1)\n",
    "        \n",
    "        # Comprobar si la nueva posición está dentro de los límites del laberinto\n",
    "        if not (0 <= new_position[0] < len(maze) and 0 <= new_position[1] < len(maze[0])):\n",
    "            fitness -= 10  # Penalización por moverse fuera de los límites\n",
    "            continue  # Salir del bucle y no continuar con este movimiento\n",
    "        \n",
    "        # Comprobar si hay colisión\n",
    "        if maze[new_position[0]][new_position[1]] == 1:  # Pared en la nueva posición\n",
    "            fitness -= 10  # Penalización por colisión\n",
    "            continue  # Salir del bucle y no continuar con este movimiento\n",
    "        else:\n",
    "            fitness +=10\n",
    "\n",
    "        # Actualizar posición y pasos\n",
    "        current_position = new_position\n",
    "        steps += 1\n",
    "        \n",
    "        # Comprobar si alcanzó la salida\n",
    "        if current_position == end:\n",
    "            fitness += 100  # Bonificación por encontrar la salida\n",
    "            break\n",
    "\n",
    "    fitness -= steps  # Penalización por el número de pasos\n",
    "    return fitness\n"
   ]
  },
  {
   "cell_type": "code",
   "execution_count": 7,
   "id": "e3fe0d1f",
   "metadata": {},
   "outputs": [],
   "source": [
    "def select(population, fitnesses):\n",
    "    total_fitness = sum(fitnesses)\n",
    "    probabilities = [fitness / total_fitness for fitness in fitnesses]\n",
    "    \n",
    "    selected = random.choices(population, probabilities, k=len(population))\n",
    "    return selected\n"
   ]
  },
  {
   "cell_type": "code",
   "execution_count": 8,
   "id": "5007ec67",
   "metadata": {},
   "outputs": [],
   "source": [
    "def crossover(parent1, parent2):\n",
    "    # función de crossover utiulizando cruce de punto\n",
    "    crossover_point = random.randint(1, len(parent1) - 1)\n",
    "    child1 = parent1[:crossover_point] + parent2[crossover_point:]\n",
    "    child2 = parent2[:crossover_point] + parent1[crossover_point:]\n",
    "    return child1, child2"
   ]
  },
  {
   "cell_type": "code",
   "execution_count": 9,
   "id": "58595b5e",
   "metadata": {},
   "outputs": [],
   "source": [
    "def mutate(individual, mutation_rate):\n",
    "    #La mutación se realiza cambiando aleatoriamente uno de los movimientos en el cromosoma del individuo\n",
    "    for i in range(len(individual)):\n",
    "        if random.random() < mutation_rate:\n",
    "            individual[i] = random.choice(['N', 'S', 'E', 'W'])\n",
    "    return individual"
   ]
  },
  {
   "cell_type": "code",
   "execution_count": 10,
   "id": "cf9a81d7",
   "metadata": {},
   "outputs": [],
   "source": [
    "def apply_elitism(population, offspring_population, elitism_count, start, end, maze):\n",
    "    sorted_population = sorted(population, key=lambda ind: reward(ind, maze, start, end), reverse=True)\n",
    "    elitism = sorted_population[:elitism_count]\n",
    "    offspring_population += elitism\n",
    "    return sorted(offspring_population, key=lambda ind: reward(ind, maze, start, end), reverse=True)[:len(population)]"
   ]
  },
  {
   "cell_type": "code",
   "execution_count": 11,
   "id": "c3056cf1",
   "metadata": {},
   "outputs": [],
   "source": [
    "def evolve(population, maze, start, end, max_generations, crossover_rate, mutation_rate, elitism_count):\n",
    "    generation = 0\n",
    "    while generation < max_generations:\n",
    "        fitnesses = [reward(individual, maze, start, end) for individual in population]\n",
    "       \n",
    "        # Selección\n",
    "        mating_pool = select(population, fitnesses)\n",
    "        \n",
    "        # Cruce (Recombination)\n",
    "        offspring_population = []\n",
    "        for i in range(0, len(mating_pool) - elitism_count, 2):\n",
    "            parent1, parent2 = mating_pool[i], mating_pool[i+1]\n",
    "            if random.random() < crossover_rate:\n",
    "                child1, child2 = crossover(parent1, parent2)\n",
    "            else:\n",
    "                child1, child2 = parent1.copy(), parent2.copy()\n",
    "            offspring_population.append(child1)\n",
    "            offspring_population.append(child2)\n",
    "        \n",
    "        # Mutación\n",
    "        for individual in offspring_population:\n",
    "            mutate(individual, mutation_rate)\n",
    "        \n",
    "        # Evaluación de aptitud\n",
    "        fitnesses = [reward(individual, maze, start, end) for individual in offspring_population]\n",
    "        \n",
    "        # Aplicar elitismo\n",
    "        population = apply_elitism(population, offspring_population, elitism_count, start, end, maze)\n",
    "    \n",
    "        generation += 1\n",
    "    \n",
    "    # Devolver el mejor individuo\n",
    "    best_individual = max(population, key=lambda ind: reward(ind, maze, start, end))\n",
    "    return best_individual\n"
   ]
  },
  {
   "cell_type": "code",
   "execution_count": 12,
   "id": "ab7f8211",
   "metadata": {},
   "outputs": [],
   "source": [
    "import matplotlib.pyplot as plt\n",
    "import numpy as np\n",
    "import random\n",
    "from matplotlib.colors import ListedColormap\n",
    "\n",
    "def create_maze(dim):\n",
    "    # Create a grid filled with walls (1)\n",
    "    # Set the seed to ensure reproducibility\n",
    "    np.random.seed(2)\n",
    "    maze = np.ones((dim * 2 + 1, dim * 2 + 1), dtype=int)\n",
    "\n",
    "    # Define the starting point\n",
    "    x, y = (0, 0)\n",
    "    maze[2 * x + 1, 2 * y + 1] = 0  # Mark start as open path\n",
    "\n",
    "    # Initialize the stack with the starting point for DFS\n",
    "    stack = [(x, y)]\n",
    "    \n",
    "    while stack:\n",
    "        x, y = stack[-1]\n",
    "\n",
    "        # Define possible directions (right, down, left, up)\n",
    "        directions = [(0, 1), (1, 0), (0, -1), (-1, 0)]\n",
    "        random.shuffle(directions)  # Randomize order for more organic mazes\n",
    "\n",
    "        for dx, dy in directions:\n",
    "            nx, ny = x + dx, y + dy\n",
    "            # Check if next cell is within bounds and is a wall\n",
    "            if 0 <= nx < dim and 0 <= ny < dim and maze[2 * nx + 1, 2 * ny + 1] == 1:\n",
    "                # Break wall to create path\n",
    "                maze[2 * nx + 1, 2 * ny + 1] = 0\n",
    "                maze[2 * x + 1 + dx, 2 * y + 1 + dy] = 0\n",
    "                stack.append((nx, ny))  # Move to the next cell\n",
    "                break\n",
    "        else:\n",
    "            stack.pop()  # Backtrack if no unvisited neighbors\n",
    "\n",
    "    # Create entrance and exit points\n",
    "    maze[1, 0] = 0  # Entrance\n",
    "    maze[-2, -1] = 0  # Exit\n",
    "\n",
    "    return maze\n",
    "\n",
    "def display_maze(maze):\n",
    "    cmap = ListedColormap(['white', 'black', 'green', 'black'])\n",
    "    plt.figure(figsize=(6, 6))\n",
    "    plt.pcolor(maze[::-1], cmap=cmap, edgecolors='k', linewidths=2)\n",
    "    plt.gca().set_aspect('equal')\n",
    "    plt.xticks([])\n",
    "    plt.yticks([])\n",
    "    plt.title('Maze with Entrance and Exit')\n",
    "    plt.show()\n"
   ]
  },
  {
   "cell_type": "code",
   "execution_count": 13,
   "id": "1236e3c8",
   "metadata": {},
   "outputs": [
    {
     "name": "stdout",
     "output_type": "stream",
     "text": [
      "[[1 1 1 1 1]\n",
      " [0 0 1 0 1]\n",
      " [1 0 1 0 1]\n",
      " [1 0 0 0 0]\n",
      " [1 1 1 1 1]]\n",
      "Mejor individuo encontrado: ['S', 'N', 'N', 'W', 'N', 'E', 'S', 'N', 'N', 'S', 'E', 'E', 'E', 'N', 'S', 'E', 'E', 'N', 'N', 'W', 'S', 'E', 'S', 'E', 'N', 'S', 'S', 'E', 'N', 'W', 'E', 'S', 'E', 'N', 'S', 'S', 'E', 'N', 'N', 'W', 'W', 'N', 'E', 'W', 'S', 'S', 'S', 'W', 'N', 'E', 'W', 'S', 'E', 'W', 'E', 'W', 'S', 'W', 'N', 'N', 'N', 'N', 'E', 'E', 'E', 'S', 'E', 'N', 'S', 'W', 'E', 'W', 'N', 'N', 'W', 'S', 'N', 'N', 'E', 'W', 'E', 'N', 'W', 'E', 'N', 'N', 'E', 'W', 'N', 'N', 'E', 'S', 'S', 'E', 'W', 'E', 'W', 'W', 'E', 'N', 'E', 'S', 'N', 'N', 'S', 'S', 'N', 'N', 'W', 'E', 'N', 'E', 'N', 'W', 'E', 'N', 'W', 'N', 'S', 'S', 'N', 'E', 'N', 'N', 'E', 'S', 'S', 'W', 'E', 'S', 'N', 'W', 'W', 'E', 'S', 'E', 'S', 'W', 'W', 'E', 'N', 'S', 'W', 'E', 'W', 'S', 'W', 'W', 'E', 'N', 'E', 'N', 'S', 'W', 'S', 'E', 'S', 'S', 'W', 'E', 'S', 'S', 'S', 'N', 'S', 'E', 'W', 'W', 'E', 'E', 'W', 'S', 'E', 'W', 'N', 'W', 'S', 'S', 'W', 'N', 'S', 'S', 'N', 'S', 'E', 'N', 'N', 'S', 'W', 'W', 'S', 'N', 'W', 'W', 'N', 'W', 'N', 'S', 'N', 'S', 'W', 'W', 'E', 'W', 'S', 'S', 'W', 'E', 'W', 'S', 'W', 'N', 'W', 'N', 'E', 'E', 'N', 'S', 'N', 'S', 'W', 'E', 'N', 'W', 'E', 'E', 'W', 'N', 'E', 'E', 'W', 'W', 'N', 'N', 'N', 'W', 'S', 'E', 'S', 'W', 'E', 'N', 'W', 'E', 'E', 'S', 'W', 'S', 'W', 'E', 'N', 'E', 'N', 'S', 'W', 'E', 'N', 'E', 'W', 'N', 'S', 'S', 'S', 'E', 'W', 'N', 'N', 'S', 'S', 'N', 'E', 'S', 'W', 'N', 'S', 'E', 'E', 'W', 'S', 'W', 'W', 'E', 'N', 'S', 'S', 'W', 'W', 'S', 'E', 'W', 'E', 'E', 'W', 'N', 'S', 'W', 'N', 'N', 'S', 'E', 'S', 'W', 'W', 'N', 'W', 'N', 'S', 'S', 'E', 'S', 'E', 'W', 'E', 'N', 'W', 'W', 'E', 'W', 'W', 'N', 'W', 'W', 'W', 'W', 'W', 'N', 'N', 'E', 'S', 'W', 'E', 'N', 'E', 'N', 'E', 'S', 'S', 'S', 'W', 'N', 'E', 'S', 'W', 'N', 'S', 'S', 'S', 'S', 'S', 'W', 'E', 'S', 'N', 'N', 'W', 'E', 'E', 'E', 'W', 'W', 'E', 'S', 'E', 'N', 'W', 'N', 'N', 'S', 'W', 'E', 'W', 'N', 'S', 'W', 'S', 'N', 'N', 'N', 'W', 'S', 'S', 'W', 'N', 'S', 'N', 'E', 'N', 'S', 'W', 'S', 'S', 'E', 'W', 'E', 'N', 'S', 'W', 'S', 'S', 'S', 'W', 'N', 'W', 'S', 'N', 'E', 'S', 'W', 'S', 'S', 'E', 'E', 'E', 'E', 'W', 'S', 'W', 'W', 'W', 'W', 'W', 'W', 'W', 'E', 'W', 'N', 'E', 'S', 'N', 'S', 'N', 'W', 'N', 'N', 'N', 'S', 'W', 'W', 'N', 'E', 'N', 'N', 'N', 'S', 'W', 'E', 'S', 'S', 'N', 'E', 'W', 'N', 'S', 'W', 'S', 'E', 'N', 'N', 'S', 'E', 'W', 'N', 'E', 'N', 'S', 'S', 'W', 'W', 'S', 'W', 'N', 'N', 'N', 'S', 'E', 'W', 'E', 'W', 'W', 'E', 'E', 'E', 'W', 'S', 'S', 'S', 'E', 'W', 'E', 'N', 'W', 'E', 'E', 'W', 'N', 'S', 'E', 'W', 'S', 'E']\n"
     ]
    }
   ],
   "source": [
    "population_size = 150 #menor a 200\n",
    "max_generations = 200 # menor a 300\n",
    "crossover_rate = 0.5\n",
    "mutation_rate = 0.01\n",
    "elitism_count = 2\n",
    "\n",
    "# Inicialización de población\n",
    "population = generate_population(population_size, 500)\n",
    "\n",
    "# Define the dimension of the maze (adjustable)\n",
    "dim = 2 # This can be any positive integer\n",
    "maze = create_maze(dim)\n",
    "print(maze)\n",
    "\n",
    "start = (1, 0)\n",
    "end = (-2, -1)\n",
    "\n",
    "# Ejecutar el algoritmo genético\n",
    "best_individual = evolve(population, maze, start, end, max_generations, crossover_rate, mutation_rate, elitism_count)\n",
    "\n",
    "print(\"Mejor individuo encontrado:\", best_individual)"
   ]
  },
  {
   "cell_type": "code",
   "execution_count": 14,
   "id": "7754120c",
   "metadata": {},
   "outputs": [
    {
     "data": {
      "image/png": "[encoded data removed]",
      "text/plain": [
       "<Figure size 600x600 with 1 Axes>"
      ]
     },
     "metadata": {},
     "output_type": "display_data"
    }
   ],
   "source": [
    "display_maze(maze)"
   ]
  },
  {
   "cell_type": "code",
   "execution_count": 16,
   "id": "d90f4b83",
   "metadata": {},
   "outputs": [
    {
     "ename": "IndexError",
     "evalue": "index 5 is out of bounds for axis 1 with size 5",
     "output_type": "error",
     "traceback": [
      "\u001b[1;31m---------------------------------------------------------------------------\u001b[0m",
      "\u001b[1;31mIndexError\u001b[0m                                Traceback (most recent call last)",
      "Cell \u001b[1;32mIn[16], line 43\u001b[0m\n\u001b[0;32m     40\u001b[0m     display_maze2(maze, path_positions)\n\u001b[0;32m     42\u001b[0m path \u001b[38;5;241m=\u001b[39m best_individual\n\u001b[1;32m---> 43\u001b[0m \u001b[43mplot_robot_path\u001b[49m\u001b[43m(\u001b[49m\u001b[43mmaze\u001b[49m\u001b[43m,\u001b[49m\u001b[43m \u001b[49m\u001b[43mstart\u001b[49m\u001b[43m,\u001b[49m\u001b[43m \u001b[49m\u001b[43mpath\u001b[49m\u001b[43m)\u001b[49m\n",
      "Cell \u001b[1;32mIn[16], line 40\u001b[0m, in \u001b[0;36mplot_robot_path\u001b[1;34m(maze, start, path)\u001b[0m\n\u001b[0;32m     37\u001b[0m     path_positions\u001b[38;5;241m.\u001b[39mappend(current_position)\n\u001b[0;32m     39\u001b[0m \u001b[38;5;66;03m# Mostrar el laberinto con el camino recorrido\u001b[39;00m\n\u001b[1;32m---> 40\u001b[0m \u001b[43mdisplay_maze2\u001b[49m\u001b[43m(\u001b[49m\u001b[43mmaze\u001b[49m\u001b[43m,\u001b[49m\u001b[43m \u001b[49m\u001b[43mpath_positions\u001b[49m\u001b[43m)\u001b[49m\n",
      "Cell \u001b[1;32mIn[16], line 10\u001b[0m, in \u001b[0;36mdisplay_maze2\u001b[1;34m(maze, path)\u001b[0m\n\u001b[0;32m      8\u001b[0m \u001b[38;5;28;01mif\u001b[39;00m path:\n\u001b[0;32m      9\u001b[0m     \u001b[38;5;28;01mfor\u001b[39;00m (i, j) \u001b[38;5;129;01min\u001b[39;00m path:\n\u001b[1;32m---> 10\u001b[0m         \u001b[43mmaze_copy\u001b[49m\u001b[43m[\u001b[49m\u001b[43mi\u001b[49m\u001b[43m,\u001b[49m\u001b[43m \u001b[49m\u001b[43mj\u001b[49m\u001b[43m]\u001b[49m \u001b[38;5;241m=\u001b[39m \u001b[38;5;241m2\u001b[39m  \u001b[38;5;66;03m# Usar valor 2 para marcar las posiciones recorridas\u001b[39;00m\n\u001b[0;32m     12\u001b[0m \u001b[38;5;66;03m# Mostrar el laberinto con las posiciones recorridas\u001b[39;00m\n\u001b[0;32m     13\u001b[0m plt\u001b[38;5;241m.\u001b[39mpcolor(maze_copy[::\u001b[38;5;241m-\u001b[39m\u001b[38;5;241m1\u001b[39m], cmap\u001b[38;5;241m=\u001b[39mcmap, edgecolors\u001b[38;5;241m=\u001b[39m\u001b[38;5;124m'\u001b[39m\u001b[38;5;124mk\u001b[39m\u001b[38;5;124m'\u001b[39m, linewidths\u001b[38;5;241m=\u001b[39m\u001b[38;5;241m2\u001b[39m)\n",
      "\u001b[1;31mIndexError\u001b[0m: index 5 is out of bounds for axis 1 with size 5"
     ]
    },
    {
     "data": {
      "text/plain": [
       "<Figure size 600x600 with 0 Axes>"
      ]
     },
     "metadata": {},
     "output_type": "display_data"
    }
   ],
   "source": [
    "def display_maze2(maze, path=None):\n",
    "    cmap = ListedColormap(['white', 'black', 'green', 'blue'])  # Azul para el camino recorrido\n",
    "    plt.figure(figsize=(6, 6))\n",
    "    \n",
    "    # Si el robot ha recorrido un camino, dibujamos esas posiciones en azul\n",
    "    maze_copy = maze.copy()  # Crear una copia del laberinto para modificar sin afectar el original\n",
    "    \n",
    "    if path:\n",
    "        for (i, j) in path:\n",
    "            maze_copy[i, j] = 2  # Usar valor 2 para marcar las posiciones recorridas\n",
    "    \n",
    "    # Mostrar el laberinto con las posiciones recorridas\n",
    "    plt.pcolor(maze_copy[::-1], cmap=cmap, edgecolors='k', linewidths=2)\n",
    "    plt.gca().set_aspect('equal')\n",
    "    plt.xticks([])\n",
    "    plt.yticks([])\n",
    "    plt.title('Maze with Path')\n",
    "    plt.show()\n",
    "\n",
    "# Función para mostrar el camino del robot\n",
    "def plot_robot_path(maze, start, path):\n",
    "    current_position = start\n",
    "    path_positions = [start]  # Empezamos con la posición inicial del robot\n",
    "    \n",
    "    # Moverse según la secuencia de movimientos\n",
    "    for move in path:  # path es una secuencia de movimientos como ['N', 'E', 'S', 'W']\n",
    "        if move == 'N':\n",
    "            current_position = (current_position[0] - 1, current_position[1])\n",
    "        elif move == 'S':\n",
    "            current_position = (current_position[0] + 1, current_position[1])\n",
    "        elif move == 'E':\n",
    "            current_position = (current_position[0], current_position[1] + 1)\n",
    "        elif move == 'W':\n",
    "            current_position = (current_position[0], current_position[1] - 1)\n",
    "        \n",
    "        # Añadir la nueva posición al camino\n",
    "        path_positions.append(current_position)\n",
    "    \n",
    "    # Mostrar el laberinto con el camino recorrido\n",
    "    display_maze2(maze, path_positions)\n",
    "    \n",
    "path = best_individual\n",
    "plot_robot_path(maze, start, path)"
   ]
  }
 ],
 "metadata": {
  "kernelspec": {
   "display_name": "pyomo_env",
   "language": "python",
   "name": "python3"
  },
  "language_info": {
   "codemirror_mode": {
    "name": "ipython",
    "version": 3
   },
   "file_extension": ".py",
   "mimetype": "text/x-python",
   "name": "python",
   "nbconvert_exporter": "python",
   "pygments_lexer": "ipython3",
   "version": "3.9.21"
  }
 },
 "nbformat": 4,
 "nbformat_minor": 5
}
