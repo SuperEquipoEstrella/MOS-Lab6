{
 "cells": [
  {
   "cell_type": "markdown",
   "id": "3bfed2b5",
   "metadata": {},
   "source": [
    "# **Laboratorio 6** - Algoritmos Genéticos"
   ]
  },
  {
   "cell_type": "markdown",
   "id": "f03bd6d4",
   "metadata": {},
   "source": [
    "Angélica Ortiz - 202222480 <br>\n",
    "María José Amorocho - 202220179"
   ]
  },
  {
   "cell_type": "markdown",
   "id": "d39de36a",
   "metadata": {},
   "source": [
    "# 1. Problema 1: Corridor Crawler"
   ]
  },
  {
   "cell_type": "code",
   "execution_count": null,
   "id": "134ca874",
   "metadata": {},
   "outputs": [],
   "source": [
    "import random\n",
    "\n",
    "def generate_population(size, genome_length):\n",
    "    population = []\n",
    "    for i in range(size):\n",
    "        genome = [random.choice(['N', 'S', 'E', 'W']) for i in range(genome_length)]\n",
    "        population.append(genome)\n",
    "    return population"
   ]
  },
  {
   "cell_type": "code",
   "execution_count": 17,
   "id": "1444a82b",
   "metadata": {},
   "outputs": [],
   "source": [
    "def reward(individual, maze, start, end):\n",
    "    current_position = start\n",
    "    steps = 0\n",
    "    fitness = 0\n",
    "    for move in individual:\n",
    "        # Moverse en función del movimiento\n",
    "        if move == 'N':\n",
    "            new_position = (current_position[0] - 1, current_position[1])\n",
    "        elif move == 'S':\n",
    "            new_position = (current_position[0] + 1, current_position[1])\n",
    "        elif move == 'E':\n",
    "            new_position = (current_position[0], current_position[1] + 1)\n",
    "        elif move == 'W':\n",
    "            new_position = (current_position[0], current_position[1] - 1)\n",
    "        \n",
    "        # Comprobar si la nueva posición está dentro de los límites del laberinto\n",
    "        if not (0 <= new_position[0] < len(maze) and 0 <= new_position[1] < len(maze[0])):\n",
    "            fitness -= 10  # Penalización por moverse fuera de los límites\n",
    "            continue  # Salir del bucle y no continuar con este movimiento\n",
    "        \n",
    "        # Comprobar si hay colisión\n",
    "        if maze[new_position[0]][new_position[1]] == 1:  # Pared en la nueva posición\n",
    "            fitness -= 10  # Penalización por colisión\n",
    "            continue  # Salir del bucle y no continuar con este movimiento\n",
    "\n",
    "        # Actualizar posición y pasos\n",
    "        current_position = new_position\n",
    "        steps += 1\n",
    "        \n",
    "        # Comprobar si alcanzó la salida\n",
    "        if current_position == end:\n",
    "            fitness += 100  # Bonificación por encontrar la salida\n",
    "            break\n",
    "\n",
    "    fitness -= steps  # Penalización por el número de pasos\n",
    "    return fitness\n"
   ]
  },
  {
   "cell_type": "code",
   "execution_count": 3,
   "id": "e3fe0d1f",
   "metadata": {},
   "outputs": [],
   "source": [
    "def select(population, fitnesses):\n",
    "    total_fitness = sum(fitnesses)\n",
    "    probabilities = [fitness / total_fitness for fitness in fitnesses]\n",
    "    \n",
    "    selected = random.choices(population, probabilities, k=len(population))\n",
    "    return selected\n"
   ]
  },
  {
   "cell_type": "code",
   "execution_count": 4,
   "id": "5007ec67",
   "metadata": {},
   "outputs": [],
   "source": [
    "def crossover(parent1, parent2):\n",
    "    # función de crossover utiulizando cruce de punto\n",
    "    crossover_point = random.randint(1, len(parent1) - 1)\n",
    "    child1 = parent1[:crossover_point] + parent2[crossover_point:]\n",
    "    child2 = parent2[:crossover_point] + parent1[crossover_point:]\n",
    "    return child1, child2"
   ]
  },
  {
   "cell_type": "code",
   "execution_count": null,
   "id": "58595b5e",
   "metadata": {},
   "outputs": [],
   "source": [
    "def mutate(individual, mutation_rate):\n",
    "    #La mutación se realiza cambiando aleatoriamente uno de los movimientos en el cromosoma del individuo\n",
    "    for i in range(len(individual)):\n",
    "        if random.random() < mutation_rate:\n",
    "            individual[i] = random.choice(['N', 'S', 'E', 'W'])\n",
    "    return individual"
   ]
  },
  {
   "cell_type": "code",
   "execution_count": 13,
   "id": "cf9a81d7",
   "metadata": {},
   "outputs": [],
   "source": [
    "def apply_elitism(population, offspring_population, elitism_count, start, end, maze):\n",
    "    sorted_population = sorted(population, key=lambda ind: reward(ind, maze, start, end), reverse=True)\n",
    "    elitism = sorted_population[:elitism_count]\n",
    "    offspring_population += elitism\n",
    "    return sorted(offspring_population, key=lambda ind: reward(ind, maze, start, end), reverse=True)[:len(population)]"
   ]
  },
  {
   "cell_type": "code",
   "execution_count": 32,
   "id": "c3056cf1",
   "metadata": {},
   "outputs": [],
   "source": [
    "def evolve(population, maze, start, end, max_generations, crossover_rate, mutation_rate, elitism_count):\n",
    "    generation = 0\n",
    "    while generation < max_generations:\n",
    "        print(f'generation: {generation}')\n",
    "        fitnesses = [reward(individual, maze, start, end) for individual in population]\n",
    "        print(f'fitnesses: {fitnesses}')\n",
    "        # Selección\n",
    "        mating_pool = select(population, fitnesses)\n",
    "        \n",
    "        # Cruce (Recombination)\n",
    "        offspring_population = []\n",
    "        for i in range(0, len(mating_pool) - elitism_count, 2):\n",
    "            parent1, parent2 = mating_pool[i], mating_pool[i+1]\n",
    "            if random.random() < crossover_rate:\n",
    "                child1, child2 = crossover(parent1, parent2)\n",
    "            else:\n",
    "                child1, child2 = parent1.copy(), parent2.copy()\n",
    "            offspring_population.append(child1)\n",
    "            offspring_population.append(child2)\n",
    "        \n",
    "        # Mutación\n",
    "        for individual in offspring_population:\n",
    "            mutate(individual, mutation_rate)\n",
    "        \n",
    "        # Evaluación de aptitud\n",
    "        fitnesses = [reward(individual, maze, start, end) for individual in offspring_population]\n",
    "        print(f'fitnesses 2: {fitnesses}')\n",
    "        # Aplicar elitismo\n",
    "        population = apply_elitism(population, offspring_population, elitism_count, start, end, maze)\n",
    "    \n",
    "        generation += 1\n",
    "    \n",
    "    # Devolver el mejor individuo\n",
    "    best_individual = max(population, key=lambda ind: reward(ind, maze, start, end))\n",
    "    return best_individual\n"
   ]
  },
  {
   "cell_type": "code",
   "execution_count": 15,
   "id": "ab7f8211",
   "metadata": {},
   "outputs": [],
   "source": [
    "import matplotlib.pyplot as plt\n",
    "import numpy as np\n",
    "import random\n",
    "from matplotlib.colors import ListedColormap\n",
    "\n",
    "def create_maze(dim):\n",
    "    # Create a grid filled with walls (1)\n",
    "    # Set the seed to ensure reproducibility\n",
    "    np.random.seed(2)\n",
    "    maze = np.ones((dim * 2 + 1, dim * 2 + 1), dtype=int)\n",
    "\n",
    "    # Define the starting point\n",
    "    x, y = (0, 0)\n",
    "    maze[2 * x + 1, 2 * y + 1] = 0  # Mark start as open path\n",
    "\n",
    "    # Initialize the stack with the starting point for DFS\n",
    "    stack = [(x, y)]\n",
    "    \n",
    "    while stack:\n",
    "        x, y = stack[-1]\n",
    "\n",
    "        # Define possible directions (right, down, left, up)\n",
    "        directions = [(0, 1), (1, 0), (0, -1), (-1, 0)]\n",
    "        random.shuffle(directions)  # Randomize order for more organic mazes\n",
    "\n",
    "        for dx, dy in directions:\n",
    "            nx, ny = x + dx, y + dy\n",
    "            # Check if next cell is within bounds and is a wall\n",
    "            if 0 <= nx < dim and 0 <= ny < dim and maze[2 * nx + 1, 2 * ny + 1] == 1:\n",
    "                # Break wall to create path\n",
    "                maze[2 * nx + 1, 2 * ny + 1] = 0\n",
    "                maze[2 * x + 1 + dx, 2 * y + 1 + dy] = 0\n",
    "                stack.append((nx, ny))  # Move to the next cell\n",
    "                break\n",
    "        else:\n",
    "            stack.pop()  # Backtrack if no unvisited neighbors\n",
    "\n",
    "    # Create entrance and exit points\n",
    "    maze[1, 0] = 0  # Entrance\n",
    "    maze[-2, -1] = 0  # Exit\n",
    "\n",
    "    return maze\n",
    "\n",
    "def display_maze(maze):\n",
    "    cmap = ListedColormap(['white', 'black', 'green', 'black'])\n",
    "    plt.figure(figsize=(6, 6))\n",
    "    plt.pcolor(maze[::-1], cmap=cmap, edgecolors='k', linewidths=2)\n",
    "    plt.gca().set_aspect('equal')\n",
    "    plt.xticks([])\n",
    "    plt.yticks([])\n",
    "    plt.title('Maze with Entrance and Exit')\n",
    "    plt.show()\n"
   ]
  },
  {
   "cell_type": "code",
   "execution_count": 35,
   "id": "1236e3c8",
   "metadata": {},
   "outputs": [
    {
     "name": "stdout",
     "output_type": "stream",
     "text": [
      "[[1 1 1 1 1]\n",
      " [0 0 0 0 1]\n",
      " [1 1 1 0 1]\n",
      " [1 0 0 0 0]\n",
      " [1 1 1 1 1]]\n",
      "generation: 0\n",
      "fitnesses: [-192, -183, -174, -165, -147]\n",
      "fitnesses 2: [-174, -183, -165, -147]\n",
      "generation: 1\n",
      "fitnesses: [-147, -147, -165, -165, -174]\n",
      "fitnesses 2: [-165, -165, -165, -147]\n",
      "generation: 2\n",
      "fitnesses: [-147, -147, -147, -165, -165]\n",
      "fitnesses 2: [-147, -147, -183, -147]\n",
      "generation: 3\n",
      "fitnesses: [-147, -147, -147, -147, -147]\n",
      "fitnesses 2: [-147, -147, -156, -147]\n",
      "generation: 4\n",
      "fitnesses: [-147, -147, -147, -147, -147]\n",
      "fitnesses 2: [-147, -165, -147, -147]\n",
      "Mejor individuo encontrado: ['S', 'E', 'E', 'N', 'N', 'S', 'S', 'E', 'S', 'N', 'W', 'W', 'W', 'W', 'S', 'E', 'E', 'E', 'S', 'S', 'W', 'N', 'E', 'W', 'S', 'S', 'W', 'N', 'S', 'N']\n"
     ]
    }
   ],
   "source": [
    "population_size = 5\n",
    "max_generations = 5\n",
    "crossover_rate = 0.5\n",
    "mutation_rate = 0.01\n",
    "elitism_count = 2\n",
    "\n",
    "# Inicialización de población\n",
    "population = generate_population(population_size, 30)\n",
    "\n",
    "# Define the dimension of the maze (adjustable)\n",
    "dim = 2 # This can be any positive integer\n",
    "maze = create_maze(dim)\n",
    "print(maze)\n",
    "\n",
    "start = (1, 0)\n",
    "end = (-2, -1)\n",
    "\n",
    "# Ejecutar el algoritmo genético\n",
    "best_individual = evolve(population, maze, start, end, max_generations, crossover_rate, mutation_rate, elitism_count)\n",
    "\n",
    "print(\"Mejor individuo encontrado:\", best_individual)"
   ]
  },
  {
   "cell_type": "code",
   "execution_count": 26,
   "id": "7754120c",
   "metadata": {},
   "outputs": [
    {
     "data": {
      "image/png": "[encoded data removed]",
      "text/plain": [
       "<Figure size 600x600 with 1 Axes>"
      ]
     },
     "metadata": {},
     "output_type": "display_data"
    }
   ],
   "source": [
    "display_maze(maze)"
   ]
  },
  {
   "cell_type": "code",
   "execution_count": 39,
   "id": "d90f4b83",
   "metadata": {},
   "outputs": [
    {
     "data": {
      "image/png": "[encoded data removed]",
      "text/plain": [
       "<Figure size 600x600 with 1 Axes>"
      ]
     },
     "metadata": {},
     "output_type": "display_data"
    }
   ],
   "source": [
    "def display_maze2(maze, path=None):\n",
    "    cmap = ListedColormap(['white', 'black', 'green', 'blue'])  # Azul para el camino recorrido\n",
    "    plt.figure(figsize=(6, 6))\n",
    "    \n",
    "    # Si el robot ha recorrido un camino, dibujamos esas posiciones en azul\n",
    "    maze_copy = maze.copy()  # Crear una copia del laberinto para modificar sin afectar el original\n",
    "    \n",
    "    if path:\n",
    "        for (i, j) in path:\n",
    "            maze_copy[i, j] = 2  # Usar valor 2 para marcar las posiciones recorridas\n",
    "    \n",
    "    # Mostrar el laberinto con las posiciones recorridas\n",
    "    plt.pcolor(maze_copy[::-1], cmap=cmap, edgecolors='k', linewidths=2)\n",
    "    plt.gca().set_aspect('equal')\n",
    "    plt.xticks([])\n",
    "    plt.yticks([])\n",
    "    plt.title('Maze with Path')\n",
    "    plt.show()\n",
    "\n",
    "# Función para mostrar el camino del robot\n",
    "def plot_robot_path(maze, start, path):\n",
    "    current_position = start\n",
    "    path_positions = [start]  # Empezamos con la posición inicial del robot\n",
    "    \n",
    "    # Moverse según la secuencia de movimientos\n",
    "    for move in path:  # path es una secuencia de movimientos como ['N', 'E', 'S', 'W']\n",
    "        if move == 'N':\n",
    "            current_position = (current_position[0] - 1, current_position[1])\n",
    "        elif move == 'S':\n",
    "            current_position = (current_position[0] + 1, current_position[1])\n",
    "        elif move == 'E':\n",
    "            current_position = (current_position[0], current_position[1] + 1)\n",
    "        elif move == 'W':\n",
    "            current_position = (current_position[0], current_position[1] - 1)\n",
    "        \n",
    "        # Añadir la nueva posición al camino\n",
    "        path_positions.append(current_position)\n",
    "    \n",
    "    # Mostrar el laberinto con el camino recorrido\n",
    "    display_maze2(maze, path_positions)\n",
    "    \n",
    "path = ['E', 'E', 'S', 'S', 'E', 'S'] \n",
    "plot_robot_path(maze, start, path)"
   ]
  }
 ],
 "metadata": {
  "kernelspec": {
   "display_name": "pyomo_env",
   "language": "python",
   "name": "python3"
  },
  "language_info": {
   "codemirror_mode": {
    "name": "ipython",
    "version": 3
   },
   "file_extension": ".py",
   "mimetype": "text/x-python",
   "name": "python",
   "nbconvert_exporter": "python",
   "pygments_lexer": "ipython3",
   "version": "3.9.21"
  }
 },
 "nbformat": 4,
 "nbformat_minor": 5
}
