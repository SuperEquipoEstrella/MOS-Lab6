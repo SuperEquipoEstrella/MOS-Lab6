{
 "cells": [
  {
   "cell_type": "markdown",
   "id": "3bfed2b5",
   "metadata": {},
   "source": [
    "# **Laboratorio 6** - Algoritmos Genéticos"
   ]
  },
  {
   "cell_type": "markdown",
   "id": "f03bd6d4",
   "metadata": {},
   "source": [
    "Angélica Ortiz - 202222480 <br>\n",
    "María José Amorocho - 202220179"
   ]
  },
  {
   "cell_type": "markdown",
   "id": "d39de36a",
   "metadata": {},
   "source": [
    "# 1. Problema 1: Corridor Crawler"
   ]
  },
  {
   "cell_type": "code",
   "execution_count": 21,
   "id": "134ca874",
   "metadata": {},
   "outputs": [],
   "source": [
    "import random\n",
    "\n",
    "def generate_population(size, genome_length):\n",
    "    population = []\n",
    "    for i in range(size):\n",
    "        genome = [random.choice(['N', 'S', 'E', 'W']) for i in range(genome_length)]\n",
    "        population.append(genome)\n",
    "    return population"
   ]
  },
  {
   "cell_type": "code",
   "execution_count": 22,
   "id": "1444a82b",
   "metadata": {},
   "outputs": [],
   "source": [
    "import math\n",
    "\n",
    "def reward(individual, maze, start, end):\n",
    "    current_position = start\n",
    "    steps = 0\n",
    "    fitness = 0\n",
    "    \n",
    "    for move in individual:\n",
    "        # Moverse en función del movimiento\n",
    "        if move == 'N':\n",
    "            new_position = (current_position[0] - 1, current_position[1])\n",
    "        elif move == 'S':\n",
    "            new_position = (current_position[0] + 1, current_position[1])\n",
    "        elif move == 'E':\n",
    "            new_position = (current_position[0], current_position[1] + 1)\n",
    "        elif move == 'W':\n",
    "            new_position = (current_position[0], current_position[1] - 1)\n",
    "        \n",
    "        # Comprobar si la nueva posición está dentro de los límites del laberinto\n",
    "        if not (0 <= new_position[0] < len(maze) and 0 <= new_position[1] < len(maze[0])):\n",
    "            fitness -= 10  # Penalización por moverse fuera de los límites\n",
    "            continue  # Salir del bucle y no continuar con este movimiento\n",
    "        \n",
    "        # Comprobar si hay colisión\n",
    "        if maze[new_position[0]][new_position[1]] == 1:  # Pared en la nueva posición\n",
    "            fitness -= 10  # Penalización por colisión\n",
    "            continue  # Salir del bucle y no continuar con este movimiento\n",
    "        else:\n",
    "            fitness += 20  # Bonificación por movimiento válido sin colisión\n",
    "\n",
    "        # Calcular la distancia euclidiana a la salida\n",
    "        distance_to_exit = math.sqrt((end[0] - new_position[0])**2 + (end[1] - new_position[1])**2)\n",
    "        \n",
    "        # Bonificar por estar más cerca de la salida\n",
    "        fitness += (100 - distance_to_exit)  # Cuanto más cerca, más bonificación\n",
    "        \n",
    "        # Actualizar posición y pasos\n",
    "        current_position = new_position\n",
    "        steps += 1\n",
    "        \n",
    "        # Comprobar si alcanzó la salida\n",
    "        if current_position == end:\n",
    "            fitness += 100  # Bonificación por encontrar la salida\n",
    "            break\n",
    "\n",
    "    fitness -= steps  # Penalización por el número de pasos\n",
    "    return fitness\n"
   ]
  },
  {
   "cell_type": "code",
   "execution_count": 23,
   "id": "e3fe0d1f",
   "metadata": {},
   "outputs": [],
   "source": [
    "def select(population, fitnesses):\n",
    "    total_fitness = sum(fitnesses)\n",
    "    probabilities = [fitness / total_fitness for fitness in fitnesses]\n",
    "    \n",
    "    selected = random.choices(population, probabilities, k=len(population))\n",
    "    return selected\n"
   ]
  },
  {
   "cell_type": "code",
   "execution_count": 24,
   "id": "5007ec67",
   "metadata": {},
   "outputs": [],
   "source": [
    "def crossover(parent1, parent2):\n",
    "    # función de crossover utiulizando cruce de punto\n",
    "    crossover_point = random.randint(1, len(parent1) - 1)\n",
    "    child1 = parent1[:crossover_point] + parent2[crossover_point:]\n",
    "    child2 = parent2[:crossover_point] + parent1[crossover_point:]\n",
    "    return child1, child2"
   ]
  },
  {
   "cell_type": "code",
   "execution_count": 25,
   "id": "58595b5e",
   "metadata": {},
   "outputs": [],
   "source": [
    "def mutate(individual, mutation_rate):\n",
    "    #La mutación se realiza cambiando aleatoriamente uno de los movimientos en el cromosoma del individuo\n",
    "    for i in range(len(individual)):\n",
    "        if random.random() < mutation_rate:\n",
    "            individual[i] = random.choice(['N', 'S', 'E', 'W'])\n",
    "    return individual"
   ]
  },
  {
   "cell_type": "code",
   "execution_count": 26,
   "id": "cf9a81d7",
   "metadata": {},
   "outputs": [],
   "source": [
    "def apply_elitism(population, offspring_population, elitism_count, start, end, maze):\n",
    "    sorted_population = sorted(population, key=lambda ind: reward(ind, maze, start, end), reverse=True)\n",
    "    elitism = sorted_population[:elitism_count]\n",
    "    offspring_population += elitism\n",
    "    return sorted(offspring_population, key=lambda ind: reward(ind, maze, start, end), reverse=True)[:len(population)]"
   ]
  },
  {
   "cell_type": "code",
   "execution_count": 27,
   "id": "c3056cf1",
   "metadata": {},
   "outputs": [],
   "source": [
    "def evolve(population, maze, start, end, max_generations, crossover_rate, mutation_rate, elitism_count):\n",
    "    generation = 0\n",
    "    while generation < max_generations:\n",
    "        fitnesses = [reward(individual, maze, start, end) for individual in population]\n",
    "       \n",
    "        # Selección\n",
    "        mating_pool = select(population, fitnesses)\n",
    "        \n",
    "        # Cruce (Recombination)\n",
    "        offspring_population = []\n",
    "        for i in range(0, len(mating_pool) - elitism_count, 2):\n",
    "            parent1, parent2 = mating_pool[i], mating_pool[i+1]\n",
    "            if random.random() < crossover_rate:\n",
    "                child1, child2 = crossover(parent1, parent2)\n",
    "            else:\n",
    "                child1, child2 = parent1.copy(), parent2.copy()\n",
    "            offspring_population.append(child1)\n",
    "            offspring_population.append(child2)\n",
    "        \n",
    "        # Mutación\n",
    "        for individual in offspring_population:\n",
    "            mutate(individual, mutation_rate)\n",
    "        \n",
    "        # Evaluación de aptitud\n",
    "        fitnesses = [reward(individual, maze, start, end) for individual in offspring_population]\n",
    "        \n",
    "        # Aplicar elitismo\n",
    "        population = apply_elitism(population, offspring_population, elitism_count, start, end, maze)\n",
    "    \n",
    "        generation += 1\n",
    "    \n",
    "    # Devolver el mejor individuo\n",
    "    best_individual = max(population, key=lambda ind: reward(ind, maze, start, end))\n",
    "    return best_individual\n"
   ]
  },
  {
   "cell_type": "code",
   "execution_count": 28,
   "id": "ab7f8211",
   "metadata": {},
   "outputs": [],
   "source": [
    "import matplotlib.pyplot as plt\n",
    "import numpy as np\n",
    "import random\n",
    "from matplotlib.colors import ListedColormap\n",
    "\n",
    "def create_maze(dim):\n",
    "    # Create a grid filled with walls (1)\n",
    "    # Set the seed to ensure reproducibility\n",
    "    np.random.seed(2)\n",
    "    maze = np.ones((dim * 2 + 1, dim * 2 + 1), dtype=int)\n",
    "\n",
    "    # Define the starting point\n",
    "    x, y = (0, 0)\n",
    "    maze[2 * x + 1, 2 * y + 1] = 0  # Mark start as open path\n",
    "\n",
    "    # Initialize the stack with the starting point for DFS\n",
    "    stack = [(x, y)]\n",
    "    \n",
    "    while stack:\n",
    "        x, y = stack[-1]\n",
    "\n",
    "        # Define possible directions (right, down, left, up)\n",
    "        directions = [(0, 1), (1, 0), (0, -1), (-1, 0)]\n",
    "        random.shuffle(directions)  # Randomize order for more organic mazes\n",
    "\n",
    "        for dx, dy in directions:\n",
    "            nx, ny = x + dx, y + dy\n",
    "            # Check if next cell is within bounds and is a wall\n",
    "            if 0 <= nx < dim and 0 <= ny < dim and maze[2 * nx + 1, 2 * ny + 1] == 1:\n",
    "                # Break wall to create path\n",
    "                maze[2 * nx + 1, 2 * ny + 1] = 0\n",
    "                maze[2 * x + 1 + dx, 2 * y + 1 + dy] = 0\n",
    "                stack.append((nx, ny))  # Move to the next cell\n",
    "                break\n",
    "        else:\n",
    "            stack.pop()  # Backtrack if no unvisited neighbors\n",
    "\n",
    "    # Create entrance and exit points\n",
    "    maze[1, 0] = 0  # Entrance\n",
    "    maze[-2, -1] = 0  # Exit\n",
    "\n",
    "    return maze\n",
    "\n",
    "def load_maze(filename):\n",
    "    with open(filename, 'r') as f:\n",
    "        return [list(map(int, line.strip().split())) for line in f]\n",
    "\n",
    "def display_maze(maze):\n",
    "    cmap = ListedColormap(['white', 'black', 'green', 'black'])\n",
    "    plt.figure(figsize=(6, 6))\n",
    "    plt.pcolor(maze[::-1], cmap=cmap, edgecolors='k', linewidths=2)\n",
    "    plt.gca().set_aspect('equal')\n",
    "    plt.xticks([])\n",
    "    plt.yticks([])\n",
    "    plt.title('Maze with Entrance and Exit')\n",
    "    plt.show()\n"
   ]
  },
  {
   "cell_type": "code",
   "execution_count": 29,
   "id": "1236e3c8",
   "metadata": {},
   "outputs": [
    {
     "data": {
      "image/png": "[encoded data removed]",
      "text/plain": [
       "<Figure size 600x600 with 1 Axes>"
      ]
     },
     "metadata": {},
     "output_type": "display_data"
    }
   ],
   "source": [
    "# Define the dimension of the maze (adjustable)\n",
    "maze = load_maze('maze_case_base.txt')\n",
    "display_maze(maze)"
   ]
  },
  {
   "cell_type": "code",
   "execution_count": 109,
   "id": "7754120c",
   "metadata": {},
   "outputs": [
    {
     "name": "stdout",
     "output_type": "stream",
     "text": [
      "Mejor individuo encontrado: ['E', 'E', 'W', 'E', 'E', 'W', 'S', 'S', 'S', 'E', 'E', 'N', 'N', 'E', 'W', 'N', 'N', 'E', 'S', 'S', 'N', 'E', 'S', 'E', 'W', 'N', 'S', 'E', 'W', 'N', 'S', 'N', 'N', 'S', 'W', 'N', 'E', 'W', 'N', 'E', 'E', 'W', 'W', 'N', 'E', 'W', 'W', 'W', 'S', 'S', 'S', 'N', 'E', 'W', 'E', 'W', 'S', 'W', 'N', 'E', 'E', 'E', 'E', 'N', 'N', 'N', 'E', 'S', 'E', 'N', 'S', 'W', 'N', 'E', 'E', 'W', 'W', 'W', 'S', 'E', 'S', 'E', 'E', 'S', 'E', 'N', 'S', 'S', 'N', 'S', 'W', 'N', 'N', 'S', 'N', 'S', 'N', 'S', 'N', 'N', 'W', 'S', 'W', 'W', 'N', 'W', 'S', 'N', 'W', 'W', 'S', 'E', 'S', 'N', 'S', 'E', 'N', 'W', 'W', 'S', 'E', 'S', 'E', 'E', 'E', 'N', 'E', 'S', 'S', 'S', 'S', 'E', 'E', 'N', 'W', 'W', 'N', 'S', 'N', 'N', 'E', 'S', 'N', 'S', 'S', 'E', 'S', 'W', 'E', 'E', 'S', 'S', 'E', 'N', 'E', 'S', 'W', 'W', 'S', 'E', 'S', 'E', 'N', 'N', 'E', 'S', 'S', 'S', 'S', 'E', 'E', 'W', 'S', 'W', 'E', 'N', 'S', 'W', 'E', 'S', 'E', 'E', 'S', 'W', 'S', 'S', 'E', 'W', 'N', 'S', 'W', 'E', 'W', 'W', 'S', 'E', 'E', 'S', 'E', 'E', 'N', 'W', 'N', 'N', 'W', 'W', 'N', 'N', 'N', 'N', 'E', 'S', 'N', 'S', 'E', 'S', 'E', 'E', 'N', 'N', 'E', 'W', 'N', 'N', 'W', 'E', 'S', 'N', 'N', 'E', 'E', 'S', 'S', 'S', 'S', 'W', 'S', 'S', 'S', 'E', 'E', 'W', 'N', 'N', 'S', 'E', 'S', 'N', 'N', 'S', 'E', 'W', 'S', 'N', 'N', 'S', 'E', 'W', 'S', 'E', 'S', 'E', 'N', 'S', 'S', 'N', 'S', 'S', 'E', 'S', 'N', 'E', 'E', 'S', 'N', 'S', 'E', 'S', 'S', 'W', 'E', 'W', 'W', 'E', 'E', 'W', 'N', 'E', 'W', 'W', 'W', 'E', 'E', 'W', 'W', 'N', 'N', 'W', 'N', 'W', 'N', 'W', 'E', 'E', 'S', 'W', 'S', 'S', 'W', 'N', 'S', 'S', 'E', 'N', 'W', 'N', 'N', 'W', 'N', 'N', 'W', 'N', 'W', 'E', 'W', 'S', 'S', 'E', 'W', 'N', 'E', 'S', 'N', 'W', 'N', 'W', 'N', 'E', 'E', 'W', 'E', 'E', 'S', 'N', 'E', 'S', 'E', 'W', 'S', 'S', 'W', 'E', 'N', 'E', 'S', 'N', 'E', 'S', 'S', 'W', 'E', 'S', 'W', 'E', 'W', 'E', 'S', 'S', 'W', 'S', 'S', 'E', 'W', 'E', 'W', 'N', 'E', 'S', 'W', 'N', 'E', 'W', 'W', 'S', 'N', 'N', 'N', 'W', 'W', 'W', 'W', 'E', 'N', 'E', 'E', 'S', 'S', 'N', 'S', 'W', 'N', 'N', 'E', 'N', 'E', 'N', 'N', 'S', 'E', 'W', 'E', 'N', 'W', 'S', 'W', 'N', 'N', 'W', 'E', 'S', 'N', 'E', 'S', 'N', 'W', 'N', 'E', 'N', 'S', 'W', 'S', 'N', 'E', 'W', 'S', 'W', 'W', 'N', 'W', 'N', 'N', 'E', 'E', 'S', 'S', 'S', 'N', 'S', 'S', 'N', 'E', 'W', 'W', 'E', 'N', 'S', 'W', 'S', 'S', 'W', 'W', 'S', 'N', 'S', 'E', 'N', 'S', 'S', 'E', 'E', 'W', 'W', 'W', 'E', 'E', 'W', 'N', 'N', 'N', 'N', 'W', 'E', 'W', 'N', 'S', 'N', 'E', 'N', 'E', 'S', 'S', 'E', 'N', 'N', 'E', 'W', 'E', 'N', 'W', 'W']\n"
     ]
    }
   ],
   "source": [
    "population_size = 50 #menor a 200\n",
    "max_generations = 50 # menor a 300\n",
    "crossover_rate = 0.1\n",
    "mutation_rate = 0.01\n",
    "elitism_count = 2\n",
    "\n",
    "# Inicialización de población\n",
    "population = generate_population(population_size, 500)\n",
    "\n",
    "start = (1, 0)\n",
    "end = (-2, -1)\n",
    "\n",
    "# Ejecutar el algoritmo genético\n",
    "best_individual = evolve(population, maze, start, end, max_generations, crossover_rate, mutation_rate, elitism_count)\n",
    "\n",
    "print(\"Mejor individuo encontrado:\", best_individual)"
   ]
  },
  {
   "cell_type": "code",
   "execution_count": 110,
   "id": "d90f4b83",
   "metadata": {},
   "outputs": [
    {
     "data": {
      "image/png": "[encoded data removed]",
      "text/plain": [
       "<Figure size 600x600 with 1 Axes>"
      ]
     },
     "metadata": {},
     "output_type": "display_data"
    }
   ],
   "source": [
    "import matplotlib.pyplot as plt\n",
    "import numpy as np\n",
    "import random\n",
    "from matplotlib.colors import ListedColormap\n",
    "\n",
    "# Función para mostrar el laberinto\n",
    "def display_maze2(maze, path=None):\n",
    "    cmap = ListedColormap(['white', 'black', 'blue'])\n",
    "    plt.figure(figsize=(6, 6))\n",
    "    maze_copy = np.array(maze)  # Convertir el laberinto a un array de NumPy para facilitar la copia\n",
    "\n",
    "    if path:\n",
    "        for (i, j) in path:\n",
    "            maze_copy[i, j] = 2  # Marcar las posiciones recorridas con el valor 2 (azul)\n",
    "\n",
    "    plt.pcolor(maze_copy[::-1], cmap=cmap, edgecolors='k', linewidths=2)\n",
    "    plt.gca().set_aspect('equal')\n",
    "    plt.xticks([])\n",
    "    plt.yticks([])\n",
    "    plt.title('Maze with Path')\n",
    "    plt.show()\n",
    "\n",
    "# Función para trazar los pasos del robot\n",
    "def plot_robot_path(maze, start, path):\n",
    "    current_position = start\n",
    "    path_positions = [start]  # Empezamos con la posición inicial\n",
    "    \n",
    "    for move in path:\n",
    "        # Verificar las paredes adyacentes en las 4 direcciones\n",
    "        front = maze[current_position[0] - 1][current_position[1]] if current_position[0] > 0 else 1  # Norte\n",
    "        bottom = maze[current_position[0] + 1][current_position[1]] if current_position[0] < len(maze) - 1 else 1  # Sur\n",
    "        left = maze[current_position[0]][current_position[1] - 1] if current_position[1] > 0 else 1  # Oeste\n",
    "        right = maze[current_position[0]][current_position[1] + 1] if current_position[1] < len(maze[0]) - 1 else 1  # Este\n",
    "        \n",
    "        # Comprobar si el movimiento es válido\n",
    "        if move == 'N' and front == 0:  # Mover hacia el norte\n",
    "            current_position = (current_position[0] - 1, current_position[1])\n",
    "        elif move == 'S' and bottom == 0:  # Mover hacia el sur\n",
    "            current_position = (current_position[0] + 1, current_position[1])\n",
    "        elif move == 'E' and right == 0:  # Mover hacia el este\n",
    "            current_position = (current_position[0], current_position[1] + 1)\n",
    "        elif move == 'W' and left == 0:  # Mover hacia el oeste\n",
    "            current_position = (current_position[0], current_position[1] - 1)\n",
    "        else:\n",
    "            continue  # Si hay una pared, el robot no se mueve y permanece en la misma posición\n",
    "\n",
    "        path_positions.append(current_position)  # Agregar la nueva posición al camino\n",
    "\n",
    "    # Mostrar el laberinto con el camino recorrido\n",
    "    display_maze2(maze, path_positions)\n",
    "\n",
    "start = (1,0)\n",
    "path = best_individual\n",
    "# Ejecutar la función para mostrar el camino\n",
    "plot_robot_path(maze, start, path)\n"
   ]
  }
 ],
 "metadata": {
  "kernelspec": {
   "display_name": "Python 3",
   "language": "python",
   "name": "python3"
  },
  "language_info": {
   "codemirror_mode": {
    "name": "ipython",
    "version": 3
   },
   "file_extension": ".py",
   "mimetype": "text/x-python",
   "name": "python",
   "nbconvert_exporter": "python",
   "pygments_lexer": "ipython3",
   "version": "3.10.10"
  }
 },
 "nbformat": 4,
 "nbformat_minor": 5
}
